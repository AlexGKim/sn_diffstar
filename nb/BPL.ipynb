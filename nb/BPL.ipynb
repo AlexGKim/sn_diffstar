{
 "cells": [
  {
   "cell_type": "code",
   "execution_count": 1,
   "id": "158a1291",
   "metadata": {},
   "outputs": [],
   "source": [
    "import numpy\n",
    "import jax\n",
    "from matplotlib import pyplot as plt\n",
    "from jax import numpy as jnp\n",
    "from jax import jit as jjit\n",
    "from jax import vmap\n",
    "\n",
    "mred = u'#d62728' \n",
    "mgreen = u'#2ca02c'\n",
    "mblue = u'#1f77b4' "
   ]
  },
  {
   "cell_type": "code",
   "execution_count": 2,
   "id": "3d0d2833",
   "metadata": {},
   "outputs": [],
   "source": [
    "from sn_diffstar.load_bpl import *\n",
    "from sn_diffstar.mspop import *\n",
    "from sn_diffstar.utils import *"
   ]
  },
  {
   "cell_type": "code",
   "execution_count": 3,
   "id": "162a473c",
   "metadata": {},
   "outputs": [],
   "source": [
    "from jax import random as jran\n",
    "ran_key = jran.PRNGKey(0)"
   ]
  },
  {
   "cell_type": "markdown",
   "id": "2f4878dd",
   "metadata": {},
   "source": [
    "## Read in data"
   ]
  },
  {
   "cell_type": "code",
   "execution_count": 4,
   "id": "1598cca2",
   "metadata": {},
   "outputs": [],
   "source": [
    "data = load_bpl_diffstar_data(MY_MPL_DRN)"
   ]
  },
  {
   "cell_type": "markdown",
   "id": "01345da0",
   "metadata": {},
   "source": [
    "## Pick an arbitray slice and associated cosmic time to consider"
   ]
  },
  {
   "cell_type": "code",
   "execution_count": null,
   "id": "490a6a85",
   "metadata": {},
   "outputs": [],
   "source": [
    "sslice = 110\n",
    "t0s=data[1][sslice]\n",
    "print(t0s)"
   ]
  },
  {
   "cell_type": "markdown",
   "id": "516728af",
   "metadata": {},
   "source": [
    "## Get SN Rates sim, diffstar fit (in-situ only) and Stellar Mass (sim) (diffstar fit does not have mass loss)"
   ]
  },
  {
   "cell_type": "code",
   "execution_count": null,
   "id": "d56db1d5",
   "metadata": {},
   "outputs": [],
   "source": [
    "SNR_sim=[]\n",
    "SNR_fit=[]\n",
    "logSM_sim=[]\n",
    "logSM_fit=[]\n",
    "\n",
    "ilim= t0s - tp\n",
    "# this is buggy if tp is larger than a slice...\n",
    "x = data[1][:sslice]\n",
    "x = numpy.append(x,ilim)\n",
    "x = numpy.insert(x,0,0)\n",
    "\n",
    "if not numpy.all(numpy.diff(x) > 0):\n",
    "    print('Bad things happening')\n",
    "    exit()\n",
    "\n",
    "ind=0\n",
    "\n",
    "for row in data[0]:\n",
    "#     t0s=numpy.random.uniform(5,13)\n",
    "    if (ind % 100) == 0:      \n",
    "\n",
    "        flim= numpy.interp(ilim,data[1],row['sfrh_sim'])\n",
    "        y = row['sfrh_sim'][:sslice]\n",
    "        y = numpy.append(y,flim)\n",
    "        y = numpy.insert(y,0,0)\n",
    "        integral = 1e9 * A * numpy.trapz(y*numpy.power(t0s-x,beta),x)                       \n",
    "        SNR_sim.append(integral)\n",
    "        \n",
    "        mah_params_one= numpy.array(list(row[data[2][0]]))        \n",
    "        SNR_fit.append(SNR(t0s, A, beta, tp, mah_params_one))\n",
    "        \n",
    "        logSM_fit.append(logSM(t0s, mah_params_one))\n",
    "        logSM_sim.append(row['logsmh_sim'][sslice])\n",
    "        \n",
    "        if numpy.log10(SNR_fit[-1]) > -3.8 and logSM_sim[-1]> 7.8 and logSM_sim[-1]< 8:\n",
    "            print(ind)\n",
    "#         if numpy.log10(SNR_fit[-1]) > -0.8 and logSM_sim[-1]> 10.8 and logSM_sim[-1]< 11:\n",
    "#             print(ind)\n",
    "    ind = ind+1\n",
    "\n",
    "SNR_sim=numpy.array(SNR_sim)\n",
    "SNR_fit=numpy.array(SNR_fit)\n",
    "logSM_sim = numpy.array(logSM_sim)\n",
    "logSM_fit = numpy.array(logSM_fit)"
   ]
  },
  {
   "cell_type": "markdown",
   "id": "bff63cdc",
   "metadata": {},
   "source": [
    "## Stellar mass versus SNR"
   ]
  },
  {
   "cell_type": "code",
   "execution_count": null,
   "id": "7fc7245c",
   "metadata": {},
   "outputs": [],
   "source": [
    "fig, ax = plt.subplots(1, 1)\n",
    "__=ax.plot(logSM_sim, numpy.log10(SNR_sim),'.',label='sim',alpha=0.2)\n",
    "__=ax.plot(logSM_fit, numpy.log10(SNR_fit),'.',label='fit',alpha=0.2)\n",
    "ax.set_ylim((-5,-0.5))\n",
    "xlabel = ax.set_title(r'${\\rm DRN\\ Galaxies}$')\n",
    "xlabel = ax.set_xlabel(r'${\\rm Stellar\\ Mass\\ } \\log{(M_\\star/M_\\odot)}$')\n",
    "ylabel = ax.set_ylabel(r'$ \\log{\\rm SN\\ Rate\\ }[{\\rm galaxy}^{-1}{\\rm yr}^{-1}]$')\n",
    "ax.legend()"
   ]
  },
  {
   "cell_type": "code",
   "execution_count": null,
   "id": "7f0a3849",
   "metadata": {},
   "outputs": [],
   "source": [
    "fig, ax = plt.subplots(1, 1)\n",
    "__=ax.plot(logSM_sim, numpy.log10(SNR_sim),'.',label='sim',alpha=0.2)\n",
    "__=ax.plot(logSM_sim, numpy.log10(SNR_fit),'.',label='fit',alpha=0.2)\n",
    "ax.set_ylim((-5,-0.5))\n",
    "xlabel = ax.set_title(r'${\\rm DRN\\ Galaxies}$')\n",
    "xlabel = ax.set_xlabel(r'${\\rm Stellar\\ Mass\\ } \\log{(M_\\star/M_\\odot)}$')\n",
    "ylabel = ax.set_ylabel(r'$ \\log{\\rm SN\\ Rate\\ }[{\\rm galaxy}^{-1}{\\rm yr}^{-1}]$')\n",
    "ax.legend()"
   ]
  },
  {
   "cell_type": "markdown",
   "id": "b0cee3d7",
   "metadata": {},
   "source": [
    "## Check sim and fit SN Rate"
   ]
  },
  {
   "cell_type": "code",
   "execution_count": null,
   "id": "4afb61ec",
   "metadata": {},
   "outputs": [],
   "source": [
    "fig, ax = plt.subplots(1, 1)\n",
    "__=ax.plot(numpy.log10(SNR_sim),numpy.log10(SNR_fit),'.')\n",
    "\n",
    "tlabel = ax.set_title(r'${\\rm DRN\\ Galaxies}$')\n",
    "xlabel = ax.set_xlabel(r'$ \\log{\\rm SN\\ Rate\\ Sim\\ }[{\\rm galaxy}^{-1}{\\rm yr}^{-1}]$')\n",
    "ylabel = ax.set_ylabel(r'$ \\log{\\rm SN\\ Rate\\ Fit\\ }[{\\rm galaxy}^{-1}{\\rm yr}^{-1}]$')"
   ]
  },
  {
   "cell_type": "code",
   "execution_count": null,
   "id": "2981cf02",
   "metadata": {},
   "outputs": [],
   "source": [
    "# high mass end\n",
    "inds=[39800,\n",
    "55300,\n",
    "72600,\n",
    "93900,\n",
    "100600,\n",
    "177800,\n",
    "193700,\n",
    "213600,\n",
    "280100,\n",
    "312600,\n",
    "464900]"
   ]
  },
  {
   "cell_type": "code",
   "execution_count": null,
   "id": "89e27e76",
   "metadata": {},
   "outputs": [],
   "source": [
    "inds=[16700,\n",
    "29300,\n",
    "74500,\n",
    "77400,\n",
    "101000,\n",
    "119200,\n",
    "122700,\n",
    "139300,\n",
    "192600,\n",
    "234800,\n",
    "256000,\n",
    "258600,\n",
    "286300,\n",
    "306100,\n",
    "332500,\n",
    "376000,\n",
    "416500]"
   ]
  },
  {
   "cell_type": "code",
   "execution_count": null,
   "id": "1b96f1c5",
   "metadata": {},
   "outputs": [],
   "source": [
    "ind=inds[11]\n",
    "row = data[0][ind]\n",
    "fig, ax = plt.subplots(1, 1)\n",
    "__=ax.plot(data[1],row['sfrh_sim'], label=\"sim\")\n",
    "mah_params_one= numpy.array(list(row[data[2][0]]))\n",
    "ms_u_params_pop, ms_sfh_pop, ms_logsmh_pop = mc_galhalo_ms_lgmpop(ran_key, mah_params_one[None,:], data[1])\n",
    "__=ax.plot(data[1],ms_sfh_pop[0,:], label=\"fit\")\n",
    "xlabel = ax.set_xlabel(r'${\\rm cosmic\\ time\\ [Gyr]}$')\n",
    "xlabel = ax.set_ylabel(r'${\\rm SFH}$')\n",
    "ax.legend()"
   ]
  },
  {
   "cell_type": "markdown",
   "id": "807923d7",
   "metadata": {},
   "source": [
    "## Compare cumulative SFH\n",
    "For normal sized galaxies"
   ]
  },
  {
   "cell_type": "code",
   "execution_count": 5,
   "id": "fbf36df9",
   "metadata": {},
   "outputs": [],
   "source": [
    "ind=0\n",
    "\n",
    "SFHint_sim = numpy.zeros(len(data[1]))\n",
    "SFHint_fit = numpy.zeros(len(data[1]))\n",
    "diff=[]\n",
    "mmin=11.25\n",
    "mmax=11.75\n",
    "for row in data[0]:\n",
    "    if (ind % 10) == 0:  \n",
    "        if row['logsmh_sim'][-1] > mmin and row['logsmh_sim'][-1] < mmax:\n",
    "            SFHint_sim = SFHint_sim + row['sfrh_sim']\n",
    "                \n",
    "            mah_params_one= numpy.array(list(row[data[2][0]]))\n",
    "            ms_u_params_pop, ms_sfh_pop, ms_logsmh_pop = mc_galhalo_ms_lgmpop(ran_key, mah_params_one[None,:], data[1])\n",
    "            SFHint_fit = SFHint_fit + ms_sfh_pop[0,:]\n",
    "            diff.append(ms_sfh_pop[0,:]-row['sfrh_sim'])\n",
    "    ind = ind+1\n",
    "\n",
    "diff = numpy.array(diff)"
   ]
  },
  {
   "cell_type": "code",
   "execution_count": 6,
   "id": "3f111af6",
   "metadata": {},
   "outputs": [
    {
     "data": {
      "image/png": "[encoded data removed]",
      "text/plain": [
       "<Figure size 640x480 with 1 Axes>"
      ]
     },
     "metadata": {},
     "output_type": "display_data"
    }
   ],
   "source": [
    "fig, ax = plt.subplots(1, 1)\n",
    "__=ax.plot(data[1], SFHint_sim, label='Sim')\n",
    "__=ax.plot(data[1], SFHint_fit, label='Fit')\n",
    "# __=ax.plot(data[1], diff.mean(axis=0), label='Diff')\n",
    "ax.legend()\n",
    "xlabel = ax.set_xlabel(r'${\\rm cosmic\\ time\\ [Gyr]}$')\n",
    "tlabel = ax.set_title(r'${{\\rm BPL\\ Galaxies\\ }} {}<\\log{{(M_\\star/M_\\odot)}}<{}$ at 13.8 Gyr'.format(mmin,mmax))\n",
    "ylabel = ax.set_ylabel(r'${\\rm Cumulative\\ SFH}$')"
   ]
  },
  {
   "cell_type": "code",
   "execution_count": 7,
   "id": "c8f6384b",
   "metadata": {},
   "outputs": [
    {
     "data": {
      "image/png": "[encoded data removed]",
      "text/plain": [
       "<Figure size 640x480 with 1 Axes>"
      ]
     },
     "metadata": {},
     "output_type": "display_data"
    }
   ],
   "source": [
    "fig, ax = plt.subplots(1, 1)\n",
    "__ = ax.hist(diff.sum(axis=1)/SFHint_sim.sum()*diff.shape[0],bins=100,log=True)\n",
    "xlabel = ax.set_xlabel(r'Fractional Difference between Fit and Sim Integrated SFH')\n",
    "tlabel = ax.set_title(r'${\\rm BPL\\ Galaxies\\ } 10<\\log{(M_\\star/M_\\odot)}<11$ at 13.8 Gyr')\n",
    "ylabel = ax.set_ylabel(r'Number')"
   ]
  },
  {
   "cell_type": "code",
   "execution_count": null,
   "id": "482cea86",
   "metadata": {},
   "outputs": [],
   "source": [
    "diff.shape"
   ]
  },
  {
   "cell_type": "code",
   "execution_count": null,
   "id": "3f2b9499",
   "metadata": {},
   "outputs": [],
   "source": [
    "ind=0\n",
    "\n",
    "SNRint_fit = []\n",
    "for row in data[0]:\n",
    "#     t0s=numpy.random.uniform(5,13)\n",
    "    if (ind % 10) == 0:      \n",
    "        if row['logsmh_sim'][-1] > 10 and row['logsmh_sim'][-1] < 11:                \n",
    "            mah_params_one= numpy.array(list(row[data[2][0]]))\n",
    "            ms_u_params_pop, ms_sfh_pop, ms_logsmh_pop = mc_galhalo_ms_lgmpop(ran_key, mah_params_one[None,:], data[1])\n",
    "            SNRint_fit.append(ms_sfh_pop[0,:])\n",
    "    ind = ind+1\n",
    "\n",
    "SNRint_fit = numpy.array(SNRint_fit)"
   ]
  },
  {
   "cell_type": "code",
   "execution_count": null,
   "id": "b72ff8a2",
   "metadata": {},
   "outputs": [],
   "source": [
    "SNRint_fit.shape"
   ]
  },
  {
   "cell_type": "code",
   "execution_count": null,
   "id": "88ec3b45",
   "metadata": {},
   "outputs": [],
   "source": [
    "## Compare cumulative integrands for SNR\n",
    "For normal sized galaxies"
   ]
  },
  {
   "cell_type": "code",
   "execution_count": null,
   "id": "ca629e01",
   "metadata": {},
   "outputs": [],
   "source": [
    "ind=0\n",
    "\n",
    "SNRint_sim = numpy.zeros(len(data[1]))\n",
    "SNRint_fit = numpy.zeros(len(data[1]))\n",
    "for row in data[0]:\n",
    "#     t0s=numpy.random.uniform(5,13)\n",
    "    if (ind % 100) == 0:      \n",
    "        if row['logsmh_sim'][-1] > 10 and row['logsmh_sim'][-1] < 11:\n",
    "            SNRint_sim = SNRint_sim + row['sfrh_sim']*numpy.power(data[1][-1]-data[1],beta)\n",
    "                \n",
    "            mah_params_one= numpy.array(list(row[data[2][0]]))\n",
    "            ms_u_params_pop, ms_sfh_pop, ms_logsmh_pop = mc_galhalo_ms_lgmpop(ran_key, mah_params_one[None,:], data[1])\n",
    "            SNRint_fit = SNRint_fit + ms_sfh_pop[0,:]*numpy.power(data[1][-1]-data[1],beta)\n",
    "\n",
    "    ind = ind+1\n",
    "\n",
    "SNRint_sim = 1e9 * A * SNRint_sim\n",
    "SNRint_fit = 1e9 * A * SNRint_fit"
   ]
  },
  {
   "cell_type": "code",
   "execution_count": null,
   "id": "f08d37f2",
   "metadata": {},
   "outputs": [],
   "source": [
    "fig, ax = plt.subplots(1, 1)\n",
    "__=ax.plot(data[1], SNRint_sim, label='Sim')\n",
    "__=ax.plot(data[1], SNRint_fit, label='Fit')\n",
    "ax.legend()\n",
    "xlabel = ax.set_xlabel(r'${\\rm cosmic\\ time\\ [Gyr]}$')\n",
    "tlabel = ax.set_title(r'${\\rm BPL Galaxies\\ } 10<\\log{(M_\\star/M_\\odot)}<11$ at 13.8 Gyr')\n",
    "ylabel = ax.set_ylabel(r'${\\rm Cumulative SFH}$')"
   ]
  },
  {
   "cell_type": "code",
   "execution_count": null,
   "id": "1dfdb3a5",
   "metadata": {},
   "outputs": [],
   "source": [
    "data[1][-1]"
   ]
  },
  {
   "cell_type": "code",
   "execution_count": null,
   "id": "f46bd62d",
   "metadata": {},
   "outputs": [],
   "source": [
    "logSM_sim=[]\n",
    "logSM_fit=[]\n",
    "tarr = jnp.linspace(0.1, t0s, 200)\n",
    "count=0\n",
    "for row in data[0]:\n",
    "    if (count % 1000) == 0:\n",
    "        mah_params_one= numpy.array(list(row[data[2][0]]))\n",
    "        ms_u_params_pop, ms_sfh_pop, ms_logsmh_pop = mc_galhalo_ms_lgmpop(ran_key, mah_params_one[None,:], tarr)\n",
    "        logSM_fit.append(ms_logsmh_pop[0,-1])\n",
    "        logSM_sim.append(row['logsmh_sim'][sslice])\n",
    "    count = count+1"
   ]
  },
  {
   "cell_type": "code",
   "execution_count": null,
   "id": "0e484daa",
   "metadata": {},
   "outputs": [],
   "source": [
    "fig, ax = plt.subplots(1, 1)\n",
    "__=ax.plot(logSM_sim, logSM_fit, '.')\n",
    "\n",
    "tlabel = ax.set_title(r'${\\rm DRN\\ Galaxies}$')\n",
    "xlabel = ax.set_xlabel(r'${\\rm Stellar\\ Mass\\ Sim\\ } \\log{(M_\\star/M_\\odot)}$')\n",
    "xlabel = ax.set_ylabel(r'${\\rm Stellar\\ Mass\\ Fit\\ } \\log{(M_\\star/M_\\odot)}$')"
   ]
  },
  {
   "cell_type": "code",
   "execution_count": null,
   "id": "ce327d83",
   "metadata": {},
   "outputs": [],
   "source": [
    "logSM_fit=data[0]['logsmh_sim'].value[:,sslice].shape"
   ]
  },
  {
   "cell_type": "code",
   "execution_count": null,
   "id": "ca49336f",
   "metadata": {},
   "outputs": [],
   "source": [
    "fig, ax = plt.subplots(1, 1)\n",
    "__=ax.plot(logSM_fit, ms_logsmh_pop[:,-1],'.',label='fit',alpha=0.2)\n",
    "\n",
    "xlabel = ax.set_title(r'${\\rm DRN\\ Galaxies}$')\n",
    "xlabel = ax.set_xlabel(r'${\\rm Stellar\\ Mass\\ } \\log{(M_\\star/M_\\odot)}$')\n",
    "ylabel = ax.set_ylabel(r'$ \\log{\\rm SN\\ Rate\\ }[{\\rm galaxy}^{-1}{\\rm yr}^{-1}]$')\n"
   ]
  },
  {
   "cell_type": "code",
   "execution_count": null,
   "id": "29f8393c",
   "metadata": {},
   "outputs": [],
   "source": [
    "logSM_fit=[]\n",
    "SNR_fit=[]\n",
    "ind=0\n",
    "for row in data[0]:\n",
    "#     t0s=numpy.random.uniform(5,13)\n",
    "    if (ind % 100) == 0:\n",
    "        mah_params=numpy.fromiter(row[data[2][0]].values(),float,-1)\n",
    "        logSM_fit.append(logSM(t0s,mah_params))\n",
    "        SNR_fit.append(SNR(t0s, A, beta, tp, mah_params))\n",
    "    ind = ind+1"
   ]
  },
  {
   "cell_type": "code",
   "execution_count": null,
   "id": "08778e85",
   "metadata": {},
   "outputs": [],
   "source": [
    "fig, ax = plt.subplots(1, 1)\n",
    "__=ax.plot(logSM_fit, numpy.log10(SNR_fit),'.',label='fit',alpha=0.2)\n",
    "\n",
    "__=ax.plot(logSM_sim, numpy.log10(SNR_sim),'.',label='sim',alpha=0.2)\n",
    "\n",
    "xlabel = ax.set_title(r'${\\rm DRN\\ Galaxies}$')\n",
    "xlabel = ax.set_xlabel(r'${\\rm Stellar\\ Mass\\ } \\log{(M_\\star/M_\\odot)}$')\n",
    "ylabel = ax.set_ylabel(r'$ \\log{\\rm SN\\ Rate\\ }[{\\rm galaxy}^{-1}{\\rm yr}^{-1}]$')\n",
    "\n",
    "\n",
    "# t0s=numpy.random.uniform(5, 13., Ngal)\n",
    "# __=ax.plot(logSM_mah(t0s, mah_params_pop), jnp.log10(SNR_mah(t0s, A, beta, tp, mah_params_pop)),'.',label='MS')\n",
    "ax.legend()\n"
   ]
  },
  {
   "cell_type": "code",
   "execution_count": null,
   "id": "2a099d96",
   "metadata": {},
   "outputs": [],
   "source": [
    "data[0]"
   ]
  },
  {
   "cell_type": "code",
   "execution_count": null,
   "id": "7bbbd364",
   "metadata": {},
   "outputs": [],
   "source": [
    "data[1][sslice]"
   ]
  },
  {
   "cell_type": "code",
   "execution_count": null,
   "id": "ee539ffc",
   "metadata": {},
   "outputs": [],
   "source": [
    "dum=(data[1][:sslice])"
   ]
  },
  {
   "cell_type": "code",
   "execution_count": null,
   "id": "e5be6243",
   "metadata": {},
   "outputs": [],
   "source": [
    "print(numpy.all(numpy.diff(x) > 0))"
   ]
  },
  {
   "cell_type": "code",
   "execution_count": null,
   "id": "7ac61655",
   "metadata": {},
   "outputs": [],
   "source": []
  },
  {
   "cell_type": "markdown",
   "id": "260c71f5",
   "metadata": {},
   "source": [
    "## DIFFSTAR SFH\n",
    "Use an example galaxy that has been parameterized by DIFFSTAR"
   ]
  },
  {
   "cell_type": "code",
   "execution_count": null,
   "id": "b01b44a8",
   "metadata": {},
   "outputs": [],
   "source": []
  },
  {
   "cell_type": "code",
   "execution_count": null,
   "id": "4f3d4a8c",
   "metadata": {},
   "outputs": [],
   "source": [
    "from diffmah.monte_carlo_halo_population import mc_halo_population\n",
    "\n",
    "Ngal=500\n",
    "T0 = 13.8\n",
    "tarr = numpy.linspace(0.1, T0, 200)\n",
    "\n",
    "logmhpop = numpy.zeros(Ngal) + 12.0\n",
    "halopop = mc_halo_population(tarr, T0, logmhpop)\n",
    "\n",
    "# Collect mah_params into array of shape (n_halos, 4)\n",
    "mah_params_pop = numpy.array((halopop.log_mah[:, -1], halopop.lgtc, halopop.early_index, halopop.late_index)).T"
   ]
  },
  {
   "cell_type": "code",
   "execution_count": null,
   "id": "02da35e6",
   "metadata": {},
   "outputs": [],
   "source": [
    "halopop.log_mah.shape"
   ]
  },
  {
   "cell_type": "markdown",
   "id": "f34f626c",
   "metadata": {},
   "source": [
    "## Supernova Rate"
   ]
  },
  {
   "cell_type": "code",
   "execution_count": null,
   "id": "a891e5bb",
   "metadata": {},
   "outputs": [],
   "source": []
  },
  {
   "cell_type": "code",
   "execution_count": null,
   "id": "2edb6dbe",
   "metadata": {},
   "outputs": [],
   "source": [
    "from sn_diffstar.utils import *"
   ]
  },
  {
   "cell_type": "code",
   "execution_count": null,
   "id": "eff6a074",
   "metadata": {},
   "outputs": [],
   "source": [
    "t0=5\n",
    "betas = numpy.linspace(-1.25,-1,20)\n",
    "tps= numpy.linspace(0.02,0.06,20)"
   ]
  },
  {
   "cell_type": "code",
   "execution_count": null,
   "id": "6ff3f895",
   "metadata": {},
   "outputs": [],
   "source": [
    "t0s=numpy.random.uniform(5, 13., Ngal)\n",
    "fig, ax = plt.subplots(1, 1)\n",
    "__=ax.plot(logSM_gal(t0s, mah_params_pop), jnp.log10(SNR_gal(t0s, A, beta, tp, mah_params_pop)),'.')\n",
    "xlabel = ax.set_title(r'${\\rm Diffstar\\ Main\\ Sequence\\ Galaxies}$')\n",
    "xlabel = ax.set_xlabel(r'${\\rm Stellar\\ Mass\\ } \\log{(M_\\star/M_\\odot)}$')\n",
    "ylabel = ax.set_ylabel(r'$ \\log{\\rm SN\\ Rate\\ }[{\\rm galaxy}^{-1}{\\rm yr}^{-1}]$')"
   ]
  },
  {
   "cell_type": "code",
   "execution_count": null,
   "id": "5916d0cf",
   "metadata": {},
   "outputs": [],
   "source": [
    "t0s=numpy.random.uniform(5, 13., Ngal)\n",
    "fig, ax = plt.subplots(1, 1)\n",
    "__=ax.plot(t0s, SNR_gal(t0s, A, beta, tp, mah_params_pop),'.')\n",
    "xlabel = ax.set_title(r'${\\rm Diffstar\\ Main\\ Sequence\\ Galaxies}$')\n",
    "ylabel = ax.set_ylabel(r'${\\rm SN\\ Rate}$')"
   ]
  },
  {
   "cell_type": "code",
   "execution_count": null,
   "id": "99f5725d",
   "metadata": {},
   "outputs": [],
   "source": [
    "fig, ax = plt.subplots(1, 1)\n",
    "__=ax.plot(betas, SNR_beta(t0, A, betas, tp, mah_params_pop[0,:]))\n",
    "xlabel = ax.set_xlabel(r'$\\beta$')\n",
    "xlabel = ax.set_title(r'${{\\rm One\\ Diffstar\\ Main\\ Sequence\\ Galaxy}}$ at Lookback {} Gyr'.format(t0))\n",
    "ylabel = ax.set_ylabel(r'${\\rm SN\\ Rate}$')"
   ]
  },
  {
   "cell_type": "code",
   "execution_count": null,
   "id": "2f5dc5c3",
   "metadata": {},
   "outputs": [],
   "source": [
    "fig, ax = plt.subplots(1, 1)\n",
    "__=ax.plot(tps, SNR_tp(t0, A, beta, tps, mah_params_pop[0,:]))\n",
    "xlabel = ax.set_xlabel(r'$t_p (Gyr)$')\n",
    "xlabel = ax.set_title(r'${{\\rm One\\ Diffstar\\ Main\\ Sequence\\ Galaxy}}$ at Lookback {} Gyr'.format(t0))\n",
    "ylabel = ax.set_ylabel(r'${\\rm SN\\ Rate}$')"
   ]
  },
  {
   "cell_type": "code",
   "execution_count": null,
   "id": "687a3059",
   "metadata": {},
   "outputs": [],
   "source": [
    "fig, ax = plt.subplots(1, 1)\n",
    "im=ax.imshow(SNR_beta_tp(t0, A, betas, tps, mah_params_pop[0,:]),extent=[betas[0], betas[-1], tps[0], tps[-1]])\n",
    "ax.set_aspect(7)\n",
    "fig.colorbar(im, ax=ax,label='SN Rate')\n",
    "xlabel = ax.set_xlabel(r'$\\beta$')\n",
    "xlabel = ax.set_ylabel(r'$t_p (Gyr)$')\n",
    "xlabel = ax.set_title(r'${{\\rm One\\ Diffstar\\ Main\\ Sequence\\ Galaxy}}$ at Lookback {} Gyr'.format(t0))"
   ]
  },
  {
   "cell_type": "markdown",
   "id": "8e4e7d50",
   "metadata": {},
   "source": [
    "### As a function of DDT parameters"
   ]
  },
  {
   "cell_type": "code",
   "execution_count": null,
   "id": "1233a2d6",
   "metadata": {},
   "outputs": [],
   "source": [
    "t0s=jnp.linspace(0.1, 13.8, 10)\n",
    "fig, ax = plt.subplots(1, 1)\n",
    "__=ax.plot(t0s, SNR_t0(t0s, A, beta, tp, mah_params_pop[0,:]))\n",
    "xlabel = ax.set_xlabel(r'${\\rm cosmic\\ time\\ [Gyr]}$')\n",
    "xlabel = ax.set_title(r'${\\rm Diffstar\\ Main\\ Sequence\\ Galaxies}$')\n",
    "ylabel = ax.set_ylabel(r'${\\rm SN\\ Rate}$')"
   ]
  },
  {
   "cell_type": "code",
   "execution_count": null,
   "id": "52920795",
   "metadata": {},
   "outputs": [],
   "source": [
    "fig, ax = plt.subplots(1, 1)\n",
    "__=ax.plot(SNR_mah(5, A, beta, tp, mah_params_pop))\n",
    "xlabel = ax.set_title(r'${\\rm Diffstar\\ Main\\ Sequence\\ Galaxies}$')\n",
    "ylabel = ax.set_ylabel(r'${\\rm SN\\ Rate}$')"
   ]
  },
  {
   "cell_type": "code",
   "execution_count": null,
   "id": "4ebc0f8e",
   "metadata": {},
   "outputs": [],
   "source": [
    "t0s=jnp.linspace(0.1, 13.5, 20)\n",
    "fig, ax = plt.subplots(1, 1)\n",
    "__=ax.plot(t0s, SNR_t0_mah(t0s, A, beta, tp, mah_params_pop))\n",
    "xlabel = ax.set_xlabel(r'${\\rm cosmic\\ time\\ [Gyr]}$')\n",
    "xlabel = ax.set_title(r'${\\rm Diffstar\\ Main\\ Sequence\\ Galaxies}$')\n",
    "ylabel = ax.set_ylabel(r'${\\rm SN\\ Rate}$')"
   ]
  },
  {
   "cell_type": "markdown",
   "id": "a2c6859c",
   "metadata": {},
   "source": [
    "## Delay time distribution (DTD) Eq. 6 of https://academic.oup.com/mnras/article/506/3/3330/6318383?login=false"
   ]
  },
  {
   "cell_type": "code",
   "execution_count": null,
   "id": "4c704263",
   "metadata": {},
   "outputs": [],
   "source": [
    "@jjit\n",
    "## tau    (Gyr)\n",
    "## tp      (Gyr)\n",
    "## A   (1e-13 M^{-1}_{sun} yr^{-1}\n",
    "##\n",
    "##  Nominal values A=2.11; beta=-1.13; tp=0.04\n",
    "\n",
    "def DTD(tau, A, beta, tp):\n",
    "    return jax.lax.cond(tau < tp, lambda a: 0., lambda a : a[0]*jnp.power(a[1],a[2]), [A, tau, beta])"
   ]
  },
  {
   "cell_type": "code",
   "execution_count": null,
   "id": "cf1c2d6b",
   "metadata": {},
   "outputs": [],
   "source": [
    "DTD_vmap = jjit(vmap(DTD, in_axes=(0, None, None, None)))"
   ]
  },
  {
   "cell_type": "code",
   "execution_count": null,
   "id": "3b71b825",
   "metadata": {},
   "outputs": [],
   "source": [
    "tau = jnp.linspace(0, 1, 100)\n",
    "fig, ax = plt.subplots(1, 1)\n",
    "__=ax.plot(tau, DTD_vmap(tau, A, beta, tp))"
   ]
  }
 ],
 "metadata": {
  "kernelspec": {
   "display_name": "Python [conda env:sn_diffit] *",
   "language": "python",
   "name": "conda-env-sn_diffit-py"
  },
  "language_info": {
   "codemirror_mode": {
    "name": "ipython",
    "version": 3
   },
   "file_extension": ".py",
   "mimetype": "text/x-python",
   "name": "python",
   "nbconvert_exporter": "python",
   "pygments_lexer": "ipython3",
   "version": "3.9.16"
  }
 },
 "nbformat": 4,
 "nbformat_minor": 5
}
