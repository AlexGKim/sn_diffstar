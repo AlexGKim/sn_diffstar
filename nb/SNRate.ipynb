{
 "cells": [
  {
   "cell_type": "code",
   "execution_count": null,
   "id": "158a1291",
   "metadata": {},
   "outputs": [],
   "source": [
    "import numpy\n",
    "import jax\n",
    "from matplotlib import pyplot as plt\n",
    "from jax import numpy as jnp\n",
    "from jax import jit as jjit\n",
    "from jax import vmap\n",
    "\n",
    "mred = u'#d62728' \n",
    "mgreen = u'#2ca02c'\n",
    "mblue = u'#1f77b4' "
   ]
  },
  {
   "cell_type": "markdown",
   "id": "a2c6859c",
   "metadata": {},
   "source": [
    "## Delay time distribution (DTD) Eq. 6 of https://academic.oup.com/mnras/article/506/3/3330/6318383?login=false"
   ]
  },
  {
   "cell_type": "code",
   "execution_count": null,
   "id": "4c704263",
   "metadata": {},
   "outputs": [],
   "source": [
    "@jjit\n",
    "## tau    (Gyr)\n",
    "## tp      (Gyr)\n",
    "## A   (1e-13 M^{-1}_{sun} yr^{-1}\n",
    "##\n",
    "##  Nominal values A=2.11; beta=-1.13; tp=0.04\n",
    "\n",
    "def DTD(tau, A, beta, tp):\n",
    "    return jax.lax.cond(tau < tp, lambda a: 0., lambda a : a[0]*jnp.power(a[1],a[2]), [A, tau, beta])"
   ]
  },
  {
   "cell_type": "code",
   "execution_count": null,
   "id": "cf1c2d6b",
   "metadata": {},
   "outputs": [],
   "source": [
    "DTD_vmap = jjit(vmap(DTD, in_axes=(0, None, None, None)))"
   ]
  },
  {
   "cell_type": "code",
   "execution_count": null,
   "id": "fdbc367b",
   "metadata": {},
   "outputs": [],
   "source": [
    "A=2.11; beta=-1.13; tp=0.04"
   ]
  },
  {
   "cell_type": "code",
   "execution_count": null,
   "id": "3b71b825",
   "metadata": {},
   "outputs": [],
   "source": [
    "tau = jnp.linspace(0, 1, 100)\n",
    "fig, ax = plt.subplots(1, 1)\n",
    "__=ax.plot(tau, DTD_vmap(tau, A, beta, tp))"
   ]
  },
  {
   "cell_type": "markdown",
   "id": "3ef7d999",
   "metadata": {},
   "source": [
    "## Placeholder Main Sequence of Star Formation with stupid t-z relation Eq. 8 of  https://academic.oup.com/mnras/article/506/3/3330/6318383?login=false"
   ]
  },
  {
   "cell_type": "code",
   "execution_count": null,
   "id": "75a52292",
   "metadata": {},
   "outputs": [],
   "source": [
    "@jjit\n",
    "## M    (1e10)\n",
    "## t Gyr\n",
    "def SFH(t, M):\n",
    "    d = t * 1e9 * 3.16e7 * 3e8 /3.09e16/1e6 # Mpc\n",
    "    z= 68.*d/3e5\n",
    "    return jnp.power(M,0.7)*(jnp.exp(1.9*z)/(jnp.exp(1.7*(z-2))+jnp.exp(0.2*(z-2))))"
   ]
  },
  {
   "cell_type": "code",
   "execution_count": null,
   "id": "630c30fa",
   "metadata": {},
   "outputs": [],
   "source": [
    "SFH_vmap = jjit(vmap(SFH, in_axes=(0, None)))"
   ]
  },
  {
   "cell_type": "code",
   "execution_count": null,
   "id": "8f36b747",
   "metadata": {},
   "outputs": [],
   "source": [
    "M=1."
   ]
  },
  {
   "cell_type": "code",
   "execution_count": null,
   "id": "db19f61a",
   "metadata": {},
   "outputs": [],
   "source": [
    "t = jnp.linspace(0, 10, 100)\n",
    "fig, ax = plt.subplots(1, 1)\n",
    "__=ax.plot(t, SFH_vmap(t, M))"
   ]
  },
  {
   "cell_type": "markdown",
   "id": "260c71f5",
   "metadata": {},
   "source": [
    "## DIFFSTAR SFH\n",
    "Use an example galaxy that has been parameterized by DIFFSTAR"
   ]
  },
  {
   "cell_type": "code",
   "execution_count": null,
   "id": "4f3d4a8c",
   "metadata": {},
   "outputs": [],
   "source": [
    "from diffmah.monte_carlo_halo_population import mc_halo_population\n",
    "\n",
    "T0 = 13.8\n",
    "tarr = numpy.linspace(0.1, T0, 200)\n",
    "\n",
    "logmhpop = numpy.zeros(500) + 12.0\n",
    "halopop = mc_halo_population(tarr, T0, logmhpop)\n",
    "\n",
    "# Collect mah_params into array of shape (n_halos, 4)\n",
    "mah_params_pop = numpy.array((halopop.log_mah[:, -1], halopop.lgtc, halopop.early_index, halopop.late_index)).T"
   ]
  },
  {
   "cell_type": "code",
   "execution_count": null,
   "id": "e4198b9b",
   "metadata": {},
   "outputs": [],
   "source": [
    "from mspop import mc_galhalo_ms_lgmpop\n",
    "from jax import random as jran\n",
    "ran_key = jran.PRNGKey(0)\n",
    "ms_u_params_pop, ms_sfh_pop, ms_logsmh_pop = mc_galhalo_ms_lgmpop(ran_key, mah_params_pop, tarr)"
   ]
  },
  {
   "cell_type": "code",
   "execution_count": null,
   "id": "17286fdf",
   "metadata": {},
   "outputs": [],
   "source": [
    "fig, ax = plt.subplots(1, 1)\n",
    "ylim = ax.set_ylim(0, 8)\n",
    "for iplot in range(0, 10):\n",
    "    ih = numpy.random.randint(0, ms_sfh_pop.shape[0])\n",
    "    __=ax.plot(tarr, ms_sfh_pop[ih, :])\n",
    "    \n",
    "xlabel = ax.set_xlabel(r'${\\rm cosmic\\ time\\ [Gyr]}$')\n",
    "xlabel = ax.set_title(r'${\\rm Diffstar\\ Main\\ Sequence\\ Galaxies}$')\n",
    "ylabel = ax.set_ylabel(r'${\\rm SFH\\ [M_{\\odot}/yr]}$')\n",
    "\n",
    "a, b = 4, 7\n",
    "__=ax.annotate(r'$M_{\\rm halo}=10^{12}{\\rm M_{\\odot}}$', xy=(a, b), xytext=(a, b), size=19)"
   ]
  },
  {
   "cell_type": "markdown",
   "id": "f34f626c",
   "metadata": {},
   "source": [
    "## Supernova Rate"
   ]
  },
  {
   "cell_type": "markdown",
   "id": "024622cd",
   "metadata": {},
   "source": [
    "### Real SFH"
   ]
  },
  {
   "cell_type": "code",
   "execution_count": null,
   "id": "3432ce2f",
   "metadata": {},
   "outputs": [],
   "source": [
    "@jjit\n",
    "def SNR_DS(t0, A, beta, tp,ran_key, mah_params_pop):\n",
    "    taus_p = jnp.linspace(jnp.power(tp, beta+1), jnp.power(15-t0, beta+1), 1000)\n",
    "    taus = jnp.power(taus_p, -(beta+1))\n",
    "    _, ms_sfh_pop, _ = mc_galhalo_ms_lgmpop(ran_key, mah_params_pop, taus+t0)\n",
    "    return 1./(1+beta)*A*jnp.trapz(ms_sfh_pop[[0,200, 400, 500],:],taus_p)"
   ]
  },
  {
   "cell_type": "code",
   "execution_count": null,
   "id": "62c79830",
   "metadata": {},
   "outputs": [],
   "source": [
    "SNR_DS_vmap  = jjit(vmap(SNR_DS,  in_axes=(0, None, None, None, None, None)))"
   ]
  },
  {
   "cell_type": "code",
   "execution_count": null,
   "id": "409c2791",
   "metadata": {},
   "outputs": [],
   "source": [
    "t0=jnp.linspace(0.1, 13.8, 50)"
   ]
  },
  {
   "cell_type": "code",
   "execution_count": null,
   "id": "5f70a41f",
   "metadata": {},
   "outputs": [],
   "source": [
    "fig, ax = plt.subplots(1, 1)\n",
    "__=ax.plot(t0, SNR_DS_vmap(t0, A, beta, tp,ran_key, mah_params_pop))\n",
    "xlabel = ax.set_xlabel(r'${\\rm cosmic\\ time\\ [Gyr]}$')\n",
    "xlabel = ax.set_title(r'${\\rm Diffstar\\ Main\\ Sequence\\ Galaxies}$')\n",
    "ylabel = ax.set_ylabel(r'${\\rm SN\\ Rate}$')"
   ]
  },
  {
   "cell_type": "markdown",
   "id": "bbb8d21d",
   "metadata": {},
   "source": [
    "### Dummy SFH"
   ]
  },
  {
   "cell_type": "code",
   "execution_count": null,
   "id": "95f3f0d3",
   "metadata": {},
   "outputs": [],
   "source": [
    "@jjit\n",
    "# in log(tau) units\n",
    "def SNR_kernel(logtau, t0, M, A, beta, tp):\n",
    "    tau = jnp.exp(logtau)\n",
    "    return DTD(tau-t0, A, beta, tp)*SFH(tau, M)*tau"
   ]
  },
  {
   "cell_type": "code",
   "execution_count": null,
   "id": "a6fb386c",
   "metadata": {},
   "outputs": [],
   "source": [
    "SNR_kernel_vmap = jjit(vmap(SNR_kernel, in_axes=(0, None, None, None, None, None)))"
   ]
  },
  {
   "cell_type": "code",
   "execution_count": null,
   "id": "cee1b9fc",
   "metadata": {},
   "outputs": [],
   "source": [
    "@jjit\n",
    "def SNR(t0, M, A, beta, tp):\n",
    "    logtf=jnp.log(12.)\n",
    "    logtaus = jnp.linspace(jnp.log(t0), logtf, 1000)\n",
    "    kernel = SNR_kernel_vmap(logtaus, t0, M, A, beta, tp)\n",
    "    return jnp.trapz(kernel,logtaus)"
   ]
  },
  {
   "cell_type": "code",
   "execution_count": null,
   "id": "f8c251d7",
   "metadata": {},
   "outputs": [],
   "source": [
    "SNR_vmap = jjit(vmap(SNR, in_axes=(0, None, None, None, None)))"
   ]
  },
  {
   "cell_type": "code",
   "execution_count": null,
   "id": "3f3bdae8",
   "metadata": {},
   "outputs": [],
   "source": [
    "from ..src import temp"
   ]
  },
  {
   "cell_type": "code",
   "execution_count": null,
   "id": "2dd297a0",
   "metadata": {},
   "outputs": [],
   "source": [
    "import sn_diffstar"
   ]
  },
  {
   "cell_type": "code",
   "execution_count": null,
   "id": "c5b87f2d",
   "metadata": {},
   "outputs": [],
   "source": []
  }
 ],
 "metadata": {
  "kernelspec": {
   "display_name": "Python [conda env:diffit] *",
   "language": "python",
   "name": "conda-env-diffit-py"
  },
  "language_info": {
   "codemirror_mode": {
    "name": "ipython",
    "version": 3
   },
   "file_extension": ".py",
   "mimetype": "text/x-python",
   "name": "python",
   "nbconvert_exporter": "python",
   "pygments_lexer": "ipython3",
   "version": "3.9.16"
  }
 },
 "nbformat": 4,
 "nbformat_minor": 5
}
