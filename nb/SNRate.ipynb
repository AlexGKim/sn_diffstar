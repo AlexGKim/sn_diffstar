{
 "cells": [
  {
   "cell_type": "code",
   "execution_count": null,
   "id": "33c07646",
   "metadata": {},
   "outputs": [],
   "source": [
    "import numpy as np\n",
    "from matplotlib import pyplot as plt\n",
    "from jax import numpy as jnp\n",
    "from jax import jit as jjit\n",
    "from jax import vmap\n",
    "\n",
    "mred = u'#d62728' \n",
    "mgreen = u'#2ca02c'\n",
    "mblue = u'#1f77b4' "
   ]
  },
  {
   "cell_type": "markdown",
   "id": "e0c20fc5",
   "metadata": {},
   "source": [
    "## Delay time distribution (DTD) Eq. 6 of https://academic.oup.com/mnras/article/506/3/3330/6318383?login=false"
   ]
  },
  {
   "cell_type": "code",
   "execution_count": null,
   "id": "268a4980",
   "metadata": {},
   "outputs": [],
   "source": [
    "@jjit\n",
    "## tau    (Gyr)\n",
    "## tp      (Gyr)\n",
    "## A   (1e-13 M^{-1}_{sun} yr^{-1}\n",
    "##\n",
    "##  Nominal values A=2.11; beta=-1.13; tp=0.04\n",
    "\n",
    "def DTD(tau, A, beta, tp):\n",
    "    return jax.lax.cond(tau < tp, lambda a: 0., lambda a : a[0]*jnp.power(a[1],a[2]), [A, tau, beta])"
   ]
  },
  {
   "cell_type": "code",
   "execution_count": null,
   "id": "c5241ba8",
   "metadata": {},
   "outputs": [],
   "source": [
    "DTD_vmap = jjit(vmap(DTD, in_axes=(0, None, None, None)))"
   ]
  },
  {
   "cell_type": "code",
   "execution_count": null,
   "id": "99004456",
   "metadata": {},
   "outputs": [],
   "source": [
    "A=2.11; beta=-1.13; tp=0.04"
   ]
  },
  {
   "cell_type": "code",
   "execution_count": null,
   "id": "c43c9a27",
   "metadata": {},
   "outputs": [],
   "source": [
    "tau = jnp.linspace(0, 1, 100)"
   ]
  },
  {
   "cell_type": "code",
   "execution_count": null,
   "id": "225aef73",
   "metadata": {},
   "outputs": [],
   "source": [
    "fig, ax = plt.subplots(1, 1)\n",
    "__=ax.plot(tau, DTD_vmap(tau, A, beta, tp))"
   ]
  },
  {
   "cell_type": "markdown",
   "id": "a7750f52",
   "metadata": {},
   "source": [
    "## Placeholder Main Sequence of Star Formation Eq. 8 of  https://academic.oup.com/mnras/article/506/3/3330/6318383?login=false"
   ]
  },
  {
   "cell_type": "code",
   "execution_count": null,
   "id": "c08939d6",
   "metadata": {},
   "outputs": [],
   "source": [
    "@jjit\n",
    "## M    (1e10)\n",
    "\n",
    "def SFH(z, M):\n",
    "    return jnp.power(M,0.7)*(jnp.exp(1.9*z)/(jnp.exp(1.7*(z-2))+jnp.exp(0.2*(z-2))))"
   ]
  },
  {
   "cell_type": "code",
   "execution_count": null,
   "id": "ffab44ef",
   "metadata": {},
   "outputs": [],
   "source": [
    "SFH_vmap = jjit(vmap(SFH, in_axes=(0, None)))"
   ]
  },
  {
   "cell_type": "code",
   "execution_count": null,
   "id": "c412133e",
   "metadata": {},
   "outputs": [],
   "source": [
    "z = jnp.linspace(0, 2, 100)"
   ]
  },
  {
   "cell_type": "code",
   "execution_count": null,
   "id": "3911d1bc",
   "metadata": {},
   "outputs": [],
   "source": [
    "fig, ax = plt.subplots(1, 1)\n",
    "__=ax.plot(z, SFH_vmap(z, 1))"
   ]
  },
  {
   "cell_type": "code",
   "execution_count": null,
   "id": "88f2fc8e",
   "metadata": {},
   "outputs": [],
   "source": [
    "from matplotlib import pyplot as plt\n",
    "mred = u'#d62728' \n",
    "mgreen = u'#2ca02c'\n",
    "mblue = u'#1f77b4' \n",
    "\n",
    "fig, ax = plt.subplots(1, 1)\n",
    "__=ax.plot(xarr, yarr)"
   ]
  },
  {
   "cell_type": "code",
   "execution_count": null,
   "id": "a1ffa521",
   "metadata": {},
   "outputs": [],
   "source": [
    "xarr"
   ]
  },
  {
   "cell_type": "code",
   "execution_count": null,
   "id": "e2628199",
   "metadata": {},
   "outputs": [],
   "source": [
    "def func(x):\n",
    "    for i in range(10):\n",
    "        x = x - i*0.1*x + i*i\n",
    "    return np.mean(x[:100])"
   ]
  },
  {
   "cell_type": "code",
   "execution_count": null,
   "id": "b9b57d0f",
   "metadata": {},
   "outputs": [],
   "source": [
    "import numpy as np\n",
    "\n",
    "xarr_timeit = np.random.uniform(0, 1, int(1e6))\n"
   ]
  },
  {
   "cell_type": "code",
   "execution_count": null,
   "id": "d9b11e07",
   "metadata": {},
   "outputs": [],
   "source": [
    "%timeit func(xarr_timeit)"
   ]
  },
  {
   "cell_type": "code",
   "execution_count": null,
   "id": "540d1ca9",
   "metadata": {},
   "outputs": [],
   "source": [
    "from jax import jit as jjit\n",
    "\n",
    "@jjit\n",
    "def jax_func(x):\n",
    "    for i in range(10):\n",
    "        x = x - i*0.1*x + i*i\n",
    "    return jnp.mean(x[:100])"
   ]
  },
  {
   "cell_type": "code",
   "execution_count": null,
   "id": "7c879f00",
   "metadata": {},
   "outputs": [],
   "source": [
    "jax_func(xarr_timeit)"
   ]
  },
  {
   "cell_type": "code",
   "execution_count": null,
   "id": "5bab08e4",
   "metadata": {},
   "outputs": [],
   "source": [
    "%timeit jax_func(xarr_timeit)"
   ]
  },
  {
   "cell_type": "code",
   "execution_count": null,
   "id": "fb14bff1",
   "metadata": {},
   "outputs": [],
   "source": [
    "from jax import grad\n",
    "\n",
    "sin_deriv = jjit(grad(jnp.sin))\n",
    "\n",
    "np.cos(np.pi/8), sin_deriv(np.pi/8)"
   ]
  },
  {
   "cell_type": "code",
   "execution_count": null,
   "id": "218d8657",
   "metadata": {},
   "outputs": [],
   "source": []
  }
 ],
 "metadata": {
  "kernelspec": {
   "display_name": "Python [conda env:desi] *",
   "language": "python",
   "name": "conda-env-desi-py"
  },
  "language_info": {
   "codemirror_mode": {
    "name": "ipython",
    "version": 3
   },
   "file_extension": ".py",
   "mimetype": "text/x-python",
   "name": "python",
   "nbconvert_exporter": "python",
   "pygments_lexer": "ipython3",
   "version": "3.9.16"
  }
 },
 "nbformat": 4,
 "nbformat_minor": 5
}
