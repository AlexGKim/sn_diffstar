{
 "cells": [
  {
   "cell_type": "code",
   "execution_count": null,
   "id": "158a1291",
   "metadata": {},
   "outputs": [],
   "source": [
    "import numpy\n",
    "import jax\n",
    "from matplotlib import pyplot as plt\n",
    "from jax import numpy as jnp\n",
    "from jax import jit as jjit\n",
    "from jax import vmap\n",
    "\n",
    "mred = u'#d62728' \n",
    "mgreen = u'#2ca02c'\n",
    "mblue = u'#1f77b4' "
   ]
  },
  {
   "cell_type": "markdown",
   "id": "dfeb598c",
   "metadata": {},
   "source": [
    "## DTD Parameters"
   ]
  },
  {
   "cell_type": "code",
   "execution_count": null,
   "id": "fdbc367b",
   "metadata": {},
   "outputs": [],
   "source": [
    "A=2.11; beta=-1.13; tp=0.04"
   ]
  },
  {
   "cell_type": "markdown",
   "id": "260c71f5",
   "metadata": {},
   "source": [
    "## DIFFSTAR SFH\n",
    "Use an example galaxy that has been parameterized by DIFFSTAR"
   ]
  },
  {
   "cell_type": "code",
   "execution_count": null,
   "id": "4f3d4a8c",
   "metadata": {},
   "outputs": [],
   "source": [
    "from diffmah.monte_carlo_halo_population import mc_halo_population\n",
    "\n",
    "Ngal=10\n",
    "T0 = 13.8\n",
    "tarr = numpy.linspace(0.1, T0, 200)\n",
    "\n",
    "logmhpop = numpy.zeros(Ngal) + 12.0\n",
    "halopop = mc_halo_population(tarr, T0, logmhpop)\n",
    "\n",
    "# Collect mah_params into array of shape (n_halos, 4)\n",
    "mah_params_pop = numpy.array((halopop.log_mah[:, -1], halopop.lgtc, halopop.early_index, halopop.late_index)).T"
   ]
  },
  {
   "cell_type": "markdown",
   "id": "f34f626c",
   "metadata": {},
   "source": [
    "## Supernova Rate"
   ]
  },
  {
   "cell_type": "code",
   "execution_count": null,
   "id": "2edb6dbe",
   "metadata": {},
   "outputs": [],
   "source": [
    "from sn_diffstar.utils import *"
   ]
  },
  {
   "cell_type": "code",
   "execution_count": null,
   "id": "c5e2db42",
   "metadata": {},
   "outputs": [],
   "source": [
    "# from sn_diffstar.mspop import _ms_means_and_covs_lgmpop, _get_ms_means, get_ms_sfh_scan_tobs_lgm0,_integrate_sfrpop, SFR_MIN\n",
    "# from diffstar.utils import _jax_get_dt_array"
   ]
  },
  {
   "cell_type": "code",
   "execution_count": null,
   "id": "7cbd5d59",
   "metadata": {},
   "outputs": [],
   "source": [
    "logSM(5.,mah_params_pop[0,:])"
   ]
  },
  {
   "cell_type": "code",
   "execution_count": null,
   "id": "eff6a074",
   "metadata": {},
   "outputs": [],
   "source": [
    "t0=5\n",
    "betas = numpy.linspace(-1.25,-1,20)\n",
    "tps= numpy.linspace(0.02,0.06,20)"
   ]
  },
  {
   "cell_type": "code",
   "execution_count": null,
   "id": "99f5725d",
   "metadata": {},
   "outputs": [],
   "source": [
    "fig, ax = plt.subplots(1, 1)\n",
    "__=ax.plot(betas, SNR_beta(t0, A, betas, tp, mah_params_pop[0,:]))\n",
    "xlabel = ax.set_xlabel(r'$\\beta$')\n",
    "xlabel = ax.set_title(r'${{\\rm One\\ Diffstar\\ Main\\ Sequence\\ Galaxy}}$ at Lookback {} Gyr'.format(t0))\n",
    "ylabel = ax.set_ylabel(r'${\\rm SN\\ Rate}$')"
   ]
  },
  {
   "cell_type": "code",
   "execution_count": null,
   "id": "2f5dc5c3",
   "metadata": {},
   "outputs": [],
   "source": [
    "fig, ax = plt.subplots(1, 1)\n",
    "__=ax.plot(tps, SNR_tp(t0, A, beta, tps, mah_params_pop[0,:]))\n",
    "xlabel = ax.set_xlabel(r'$t_p (Gyr)$')\n",
    "xlabel = ax.set_title(r'${{\\rm One\\ Diffstar\\ Main\\ Sequence\\ Galaxy}}$ at Lookback {} Gyr'.format(t0))\n",
    "ylabel = ax.set_ylabel(r'${\\rm SN\\ Rate}$')"
   ]
  },
  {
   "cell_type": "code",
   "execution_count": null,
   "id": "687a3059",
   "metadata": {},
   "outputs": [],
   "source": [
    "fig, ax = plt.subplots(1, 1)\n",
    "im=ax.imshow(SNR_beta_tp(t0, A, betas, tps, mah_params_pop[0,:]),extent=[betas[0], betas[-1], tps[0], tps[-1]])\n",
    "ax.set_aspect(7)\n",
    "fig.colorbar(im, ax=ax,label='SN Rate')\n",
    "xlabel = ax.set_xlabel(r'$\\beta$')\n",
    "xlabel = ax.set_ylabel(r'$t_p (Gyr)$')\n",
    "xlabel = ax.set_title(r'${{\\rm One\\ Diffstar\\ Main\\ Sequence\\ Galaxy}}$ at Lookback {} Gyr'.format(t0))"
   ]
  },
  {
   "cell_type": "markdown",
   "id": "8e4e7d50",
   "metadata": {},
   "source": [
    "### As a function of DDT parameters"
   ]
  },
  {
   "cell_type": "code",
   "execution_count": null,
   "id": "1233a2d6",
   "metadata": {},
   "outputs": [],
   "source": [
    "t0s=jnp.linspace(0.1, 13.8, 10)\n",
    "fig, ax = plt.subplots(1, 1)\n",
    "__=ax.plot(t0s, SNR_t0(t0s, A, beta, tp, mah_params_pop[0,:]))\n",
    "xlabel = ax.set_xlabel(r'${\\rm cosmic\\ time\\ [Gyr]}$')\n",
    "xlabel = ax.set_title(r'${\\rm Diffstar\\ Main\\ Sequence\\ Galaxies}$')\n",
    "ylabel = ax.set_ylabel(r'${\\rm SN\\ Rate}$')"
   ]
  },
  {
   "cell_type": "code",
   "execution_count": null,
   "id": "52920795",
   "metadata": {},
   "outputs": [],
   "source": [
    "fig, ax = plt.subplots(1, 1)\n",
    "__=ax.plot(SNR_mah(5, A, beta, tp, mah_params_pop))\n",
    "xlabel = ax.set_title(r'${\\rm Diffstar\\ Main\\ Sequence\\ Galaxies}$')\n",
    "ylabel = ax.set_ylabel(r'${\\rm SN\\ Rate}$')"
   ]
  },
  {
   "cell_type": "code",
   "execution_count": null,
   "id": "6ff3f895",
   "metadata": {},
   "outputs": [],
   "source": [
    "t0s=jnp.linspace(0.1, 13.8, Ngal)\n",
    "fig, ax = plt.subplots(1, 1)\n",
    "__=ax.plot(t0s, SNR_gal(t0s, A, beta, tp, mah_params_pop))\n",
    "xlabel = ax.set_title(r'${\\rm Diffstar\\ Main\\ Sequence\\ Galaxies}$')\n",
    "ylabel = ax.set_ylabel(r'${\\rm SN\\ Rate}$')"
   ]
  },
  {
   "cell_type": "code",
   "execution_count": null,
   "id": "4ebc0f8e",
   "metadata": {},
   "outputs": [],
   "source": [
    "t0s=jnp.linspace(0.1, 13.5, 20)\n",
    "fig, ax = plt.subplots(1, 1)\n",
    "__=ax.plot(t0s, SNR_t0_mah(t0s, A, beta, tp, mah_params_pop))\n",
    "xlabel = ax.set_xlabel(r'${\\rm cosmic\\ time\\ [Gyr]}$')\n",
    "xlabel = ax.set_title(r'${\\rm Diffstar\\ Main\\ Sequence\\ Galaxies}$')\n",
    "ylabel = ax.set_ylabel(r'${\\rm SN\\ Rate}$')"
   ]
  },
  {
   "cell_type": "markdown",
   "id": "a2c6859c",
   "metadata": {},
   "source": [
    "## Delay time distribution (DTD) Eq. 6 of https://academic.oup.com/mnras/article/506/3/3330/6318383?login=false"
   ]
  },
  {
   "cell_type": "code",
   "execution_count": null,
   "id": "4c704263",
   "metadata": {},
   "outputs": [],
   "source": [
    "@jjit\n",
    "## tau    (Gyr)\n",
    "## tp      (Gyr)\n",
    "## A   (1e-13 M^{-1}_{sun} yr^{-1}\n",
    "##\n",
    "##  Nominal values A=2.11; beta=-1.13; tp=0.04\n",
    "\n",
    "def DTD(tau, A, beta, tp):\n",
    "    return jax.lax.cond(tau < tp, lambda a: 0., lambda a : a[0]*jnp.power(a[1],a[2]), [A, tau, beta])"
   ]
  },
  {
   "cell_type": "code",
   "execution_count": null,
   "id": "cf1c2d6b",
   "metadata": {},
   "outputs": [],
   "source": [
    "DTD_vmap = jjit(vmap(DTD, in_axes=(0, None, None, None)))"
   ]
  },
  {
   "cell_type": "code",
   "execution_count": null,
   "id": "3b71b825",
   "metadata": {},
   "outputs": [],
   "source": [
    "tau = jnp.linspace(0, 1, 100)\n",
    "fig, ax = plt.subplots(1, 1)\n",
    "__=ax.plot(tau, DTD_vmap(tau, A, beta, tp))"
   ]
  }
 ],
 "metadata": {
  "kernelspec": {
   "display_name": "Python [conda env:sn_diffit] *",
   "language": "python",
   "name": "conda-env-sn_diffit-py"
  },
  "language_info": {
   "codemirror_mode": {
    "name": "ipython",
    "version": 3
   },
   "file_extension": ".py",
   "mimetype": "text/x-python",
   "name": "python",
   "nbconvert_exporter": "python",
   "pygments_lexer": "ipython3",
   "version": "3.9.16"
  }
 },
 "nbformat": 4,
 "nbformat_minor": 5
}
