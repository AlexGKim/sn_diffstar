{
 "cells": [
  {
   "cell_type": "code",
   "execution_count": null,
   "id": "158a1291",
   "metadata": {},
   "outputs": [],
   "source": [
    "import numpy as np\n",
    "import jax\n",
    "from matplotlib import pyplot as plt\n",
    "from jax import numpy as jnp\n",
    "from jax import jit as jjit\n",
    "from jax import vmap\n",
    "\n",
    "mred = u'#d62728' \n",
    "mgreen = u'#2ca02c'\n",
    "mblue = u'#1f77b4' "
   ]
  },
  {
   "cell_type": "markdown",
   "id": "a2c6859c",
   "metadata": {},
   "source": [
    "## Delay time distribution (DTD) Eq. 6 of https://academic.oup.com/mnras/article/506/3/3330/6318383?login=false"
   ]
  },
  {
   "cell_type": "code",
   "execution_count": null,
   "id": "4c704263",
   "metadata": {},
   "outputs": [],
   "source": [
    "@jjit\n",
    "## tau    (Gyr)\n",
    "## tp      (Gyr)\n",
    "## A   (1e-13 M^{-1}_{sun} yr^{-1}\n",
    "##\n",
    "##  Nominal values A=2.11; beta=-1.13; tp=0.04\n",
    "\n",
    "def DTD(tau, A, beta, tp):\n",
    "    return jax.lax.cond(tau < tp, lambda a: 0., lambda a : a[0]*jnp.power(a[1],a[2]), [A, tau, beta])"
   ]
  },
  {
   "cell_type": "code",
   "execution_count": null,
   "id": "cf1c2d6b",
   "metadata": {},
   "outputs": [],
   "source": [
    "DTD_vmap = jjit(vmap(DTD, in_axes=(0, None, None, None)))"
   ]
  },
  {
   "cell_type": "code",
   "execution_count": null,
   "id": "fdbc367b",
   "metadata": {},
   "outputs": [],
   "source": [
    "A=2.11; beta=-1.13; tp=0.04"
   ]
  },
  {
   "cell_type": "code",
   "execution_count": null,
   "id": "3b71b825",
   "metadata": {},
   "outputs": [],
   "source": [
    "tau = jnp.linspace(0, 1, 100)\n",
    "fig, ax = plt.subplots(1, 1)\n",
    "__=ax.plot(tau, DTD_vmap(tau, A, beta, tp))"
   ]
  },
  {
   "cell_type": "markdown",
   "id": "3ef7d999",
   "metadata": {},
   "source": [
    "## Placeholder Main Sequence of Star Formation with stupid t-z relation Eq. 8 of  https://academic.oup.com/mnras/article/506/3/3330/6318383?login=false"
   ]
  },
  {
   "cell_type": "code",
   "execution_count": null,
   "id": "75a52292",
   "metadata": {},
   "outputs": [],
   "source": [
    "@jjit\n",
    "## M    (1e10)\n",
    "## t Gyr\n",
    "def SFH(t, M):\n",
    "    d = t * 1e9 * 3.16e7 * 3e8 /3.09e16/1e6 # Mpc\n",
    "    z= 68.*d/3e5\n",
    "    return jnp.power(M,0.7)*(jnp.exp(1.9*z)/(jnp.exp(1.7*(z-2))+jnp.exp(0.2*(z-2))))"
   ]
  },
  {
   "cell_type": "code",
   "execution_count": null,
   "id": "630c30fa",
   "metadata": {},
   "outputs": [],
   "source": [
    "SFH_vmap = jjit(vmap(SFH, in_axes=(0, None)))"
   ]
  },
  {
   "cell_type": "code",
   "execution_count": null,
   "id": "8f36b747",
   "metadata": {},
   "outputs": [],
   "source": [
    "M=1."
   ]
  },
  {
   "cell_type": "code",
   "execution_count": null,
   "id": "db19f61a",
   "metadata": {},
   "outputs": [],
   "source": [
    "t = jnp.linspace(0, 10, 100)\n",
    "fig, ax = plt.subplots(1, 1)\n",
    "__=ax.plot(t, SFH_vmap(t, M))"
   ]
  },
  {
   "cell_type": "markdown",
   "id": "260c71f5",
   "metadata": {},
   "source": [
    "## DIFFSTAR SFH\n",
    "Use an example galaxy that has been parameterized by DIFFSTAR"
   ]
  },
  {
   "cell_type": "code",
   "execution_count": null,
   "id": "4f3d4a8c",
   "metadata": {},
   "outputs": [],
   "source": [
    "from diffstar.stars import _get_bounded_sfr_params\n",
    "from diffstar.quenching import _get_bounded_q_params\n",
    "from diffstar.stars import calculate_sm_sfr_fstar_history_from_mah"
   ]
  },
  {
   "cell_type": "code",
   "execution_count": null,
   "id": "e0c2771f",
   "metadata": {},
   "outputs": [],
   "source": [
    "output_data={'halo_id': '1251',\n",
    " 'lgmcrit': '1.15884e+01',\n",
    " 'lgy_at_mcrit': '1.17262e-01',\n",
    " 'indx_lo': '6.05819e-01',\n",
    " 'indx_hi': '-7.67132e-01',\n",
    " 'tau_dep': '-9.95171e+00',\n",
    " 'qt': '1.06138e+00',\n",
    " 'qs': '-4.43739e+00',\n",
    " 'q_drop': '-1.09065e+00',\n",
    " 'q_rejuv': '-4.21483e+00',\n",
    " 'loss': '2.96707e-02',\n",
    " 'success': '1'}"
   ]
  },
  {
   "cell_type": "code",
   "execution_count": null,
   "id": "82d189dc",
   "metadata": {},
   "outputs": [],
   "source": [
    "colnames = list(output_data.keys())\n",
    "sfr_colnames = colnames[1:6]\n",
    "q_colnames = colnames[6:10]\n",
    "u_sfr_fit_params = np.array([output_data[key] for key in sfr_colnames]).astype(float)\n",
    "u_q_fit_params = np.array([output_data[key] for key in q_colnames]).astype(float)"
   ]
  },
  {
   "cell_type": "markdown",
   "id": "f34f626c",
   "metadata": {},
   "source": [
    "## Supernova Rate"
   ]
  },
  {
   "cell_type": "code",
   "execution_count": null,
   "id": "95f3f0d3",
   "metadata": {},
   "outputs": [],
   "source": [
    "@jjit\n",
    "# in log(tau) units\n",
    "def SNR_kernel(logtau, t0, M, A, beta, tp):\n",
    "    tau = jnp.exp(logtau)\n",
    "    return DTD(tau-t0, A, beta, tp)*SFH(tau, M)*tau"
   ]
  },
  {
   "cell_type": "code",
   "execution_count": null,
   "id": "a6fb386c",
   "metadata": {},
   "outputs": [],
   "source": [
    "SNR_kernel_vmap = jjit(vmap(SNR_kernel, in_axes=(0, None, None, None, None, None)))"
   ]
  },
  {
   "cell_type": "code",
   "execution_count": null,
   "id": "cee1b9fc",
   "metadata": {},
   "outputs": [],
   "source": [
    "@jjit\n",
    "def SNR(t0, M, A, beta, tp):\n",
    "    logtf=jnp.log(12.)\n",
    "    logtaus = jnp.linspace(jnp.log(t0), logtf, 1000)\n",
    "    kernel = SNR_kernel_vmap(logtaus, t0, M, A, beta, tp)\n",
    "    return jnp.trapz(kernel,logtaus)"
   ]
  },
  {
   "cell_type": "code",
   "execution_count": null,
   "id": "f8c251d7",
   "metadata": {},
   "outputs": [],
   "source": [
    "SNR_vmap = jjit(vmap(SNR, in_axes=(0, None, None, None, None)))"
   ]
  },
  {
   "cell_type": "code",
   "execution_count": null,
   "id": "409c2791",
   "metadata": {},
   "outputs": [],
   "source": [
    "t0=jnp.linspace(0.1, 12, 20)"
   ]
  },
  {
   "cell_type": "code",
   "execution_count": null,
   "id": "65bcf52d",
   "metadata": {},
   "outputs": [],
   "source": [
    "SNR_vmap(t0, M, A, beta, tp)"
   ]
  },
  {
   "cell_type": "code",
   "execution_count": null,
   "id": "5f70a41f",
   "metadata": {},
   "outputs": [],
   "source": [
    "fig, ax = plt.subplots(1, 1)\n",
    "__=ax.plot(t0, SNR_vmap(t0, M, A, beta, tp))"
   ]
  },
  {
   "cell_type": "code",
   "execution_count": null,
   "id": "0e8e49d8",
   "metadata": {},
   "outputs": [],
   "source": []
  }
 ],
 "metadata": {
  "kernelspec": {
   "display_name": "Python [conda env:diffit] *",
   "language": "python",
   "name": "conda-env-diffit-py"
  },
  "language_info": {
   "codemirror_mode": {
    "name": "ipython",
    "version": 3
   },
   "file_extension": ".py",
   "mimetype": "text/x-python",
   "name": "python",
   "nbconvert_exporter": "python",
   "pygments_lexer": "ipython3",
   "version": "3.9.16"
  }
 },
 "nbformat": 4,
 "nbformat_minor": 5
}
