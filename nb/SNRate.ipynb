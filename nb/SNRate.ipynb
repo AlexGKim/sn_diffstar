{
 "cells": [
  {
   "cell_type": "code",
   "execution_count": null,
   "id": "158a1291",
   "metadata": {},
   "outputs": [],
   "source": [
    "import numpy\n",
    "import jax\n",
    "from matplotlib import pyplot as plt\n",
    "from jax import numpy as jnp\n",
    "from jax import jit as jjit\n",
    "from jax import vmap\n",
    "\n",
    "mred = u'#d62728' \n",
    "mgreen = u'#2ca02c'\n",
    "mblue = u'#1f77b4' "
   ]
  },
  {
   "cell_type": "markdown",
   "id": "05270a5b",
   "metadata": {},
   "source": [
    "## Main Sequence"
   ]
  },
  {
   "cell_type": "code",
   "execution_count": null,
   "id": "b8033708",
   "metadata": {},
   "outputs": [],
   "source": [
    "from diffmah.monte_carlo_halo_population import mc_halo_population\n",
    "\n",
    "Ngal=500\n",
    "T0 = 13.8\n",
    "tarr = numpy.linspace(0.1, T0, 200)\n",
    "\n",
    "logmhpop = numpy.zeros(Ngal) + 12.0\n",
    "halopop = mc_halo_population(tarr, T0, logmhpop)\n",
    "\n",
    "# Collect mah_params into array of shape (n_halos, 4)\n",
    "mah_params_pop = numpy.array((halopop.log_mah[:, -1], halopop.lgtc, halopop.early_index, halopop.late_index)).T"
   ]
  },
  {
   "cell_type": "markdown",
   "id": "9834bb69",
   "metadata": {},
   "source": [
    "## Realistic SFH"
   ]
  },
  {
   "cell_type": "code",
   "execution_count": null,
   "id": "e45ad612",
   "metadata": {},
   "outputs": [],
   "source": [
    "from sn_diffstar.load_bpl import *"
   ]
  },
  {
   "cell_type": "code",
   "execution_count": null,
   "id": "04bb2177",
   "metadata": {},
   "outputs": [],
   "source": [
    "data = load_bpl_diffstar_data(MY_MPL_DRN)"
   ]
  },
  {
   "cell_type": "code",
   "execution_count": null,
   "id": "8f98aa4d",
   "metadata": {},
   "outputs": [],
   "source": [
    "from sn_diffstar.utils import *"
   ]
  },
  {
   "cell_type": "code",
   "execution_count": null,
   "id": "dc58795e",
   "metadata": {},
   "outputs": [],
   "source": [
    "sslice = 110\n",
    "t0s=data[1][sslice]"
   ]
  },
  {
   "cell_type": "code",
   "execution_count": null,
   "id": "eaeed8e8",
   "metadata": {},
   "outputs": [],
   "source": [
    "logSM_fit=[]\n",
    "SNR_fit=[]\n",
    "ind=0\n",
    "for row in data[0]:\n",
    "#     t0s=numpy.random.uniform(5,13)\n",
    "    if (ind % 100) == 0:\n",
    "        mah_params=numpy.fromiter(row[data[2][0]].values(),float,-1)\n",
    "        logSM_fit.append(logSM(t0s,mah_params))\n",
    "        SNR_fit.append(SNR(t0s, A, beta, tp, mah_params))\n",
    "    ind = ind+1"
   ]
  },
  {
   "cell_type": "code",
   "execution_count": null,
   "id": "4dc22d16",
   "metadata": {},
   "outputs": [],
   "source": [
    "logSM_sim=[]\n",
    "SNR_sim=[]\n",
    "ind=0\n",
    "ilim= t0s - tp\n",
    "x = data[1][:sslice]\n",
    "x = numpy.append(x,ilim)\n",
    "\n",
    "for row in data[0]:\n",
    "#     t0s=numpy.random.uniform(5,13)\n",
    "    if (ind % 1500) == 0:\n",
    "#     if (ind ) == 1500:        \n",
    "        logSM_sim.append(row['logsmh_sim'][sslice])\n",
    "        \n",
    "        flim= numpy.interp(ilim,data[1],row['sfrh_sim'])\n",
    "        y = row['sfrh_sim'][:sslice]\n",
    "        y = numpy.append(y,flim)\n",
    "        integral = 1e9 * A * numpy.trapz(y*numpy.power(t0s-x,beta),x)\n",
    "#         fig, ax = plt.subplots(1, 1)\n",
    "#         __=ax.plot(x, y*numpy.power(t0s-x,beta),'.',label='fit')\n",
    "#         __=ax.plot(x, y,'.',label='fit') \n",
    "#         __=ax.plot(data[1],row['sfrh_sim'])\n",
    "#         print(numpy.min(y*numpy.power(t0s-x,beta)))\n",
    "#         print(ind,integral)\n",
    "#         stop\n",
    "                       \n",
    "        SNR_sim.append(integral)\n",
    "    ind = ind+1"
   ]
  },
  {
   "cell_type": "code",
   "execution_count": null,
   "id": "31fd7527",
   "metadata": {},
   "outputs": [],
   "source": [
    "fig, ax = plt.subplots(1, 1)\n",
    "__=ax.plot(logSM_fit, numpy.log10(SNR_fit),'.',label='fit')\n",
    "\n",
    "__=ax.plot(logSM_sim, numpy.log10(SNR_sim),'.',label='sim')\n",
    "\n",
    "xlabel = ax.set_title(r'${\\rm DRN\\ Diffstar\\ Galaxies}$')\n",
    "xlabel = ax.set_xlabel(r'${\\rm Stellar\\ Mass\\ } \\log{(M_\\star/M_\\odot)}$')\n",
    "ylabel = ax.set_ylabel(r'$ \\log{\\rm SN\\ Rate\\ }[{\\rm galaxy}^{-1}{\\rm yr}^{-1}]$')\n",
    "\n",
    "\n",
    "# t0s=numpy.random.uniform(5, 13., Ngal)\n",
    "# __=ax.plot(logSM_mah(t0s, mah_params_pop), jnp.log10(SNR_mah(t0s, A, beta, tp, mah_params_pop)),'.',label='MS')\n",
    "ax.legend()\n"
   ]
  },
  {
   "cell_type": "code",
   "execution_count": null,
   "id": "20605020",
   "metadata": {},
   "outputs": [],
   "source": [
    "data[0]"
   ]
  },
  {
   "cell_type": "code",
   "execution_count": null,
   "id": "629d10a7",
   "metadata": {},
   "outputs": [],
   "source": [
    "data[1][sslice]"
   ]
  },
  {
   "cell_type": "code",
   "execution_count": null,
   "id": "56459d4c",
   "metadata": {},
   "outputs": [],
   "source": [
    "dum=(data[1][:sslice])"
   ]
  },
  {
   "cell_type": "code",
   "execution_count": null,
   "id": "f62b7700",
   "metadata": {},
   "outputs": [],
   "source": [
    "numpy.append(dum,100).shape"
   ]
  },
  {
   "cell_type": "markdown",
   "id": "260c71f5",
   "metadata": {},
   "source": [
    "## DIFFSTAR SFH\n",
    "Use an example galaxy that has been parameterized by DIFFSTAR"
   ]
  },
  {
   "cell_type": "code",
   "execution_count": null,
   "id": "58a5eaad",
   "metadata": {},
   "outputs": [],
   "source": []
  },
  {
   "cell_type": "code",
   "execution_count": null,
   "id": "4f3d4a8c",
   "metadata": {},
   "outputs": [],
   "source": [
    "from diffmah.monte_carlo_halo_population import mc_halo_population\n",
    "\n",
    "Ngal=500\n",
    "T0 = 13.8\n",
    "tarr = numpy.linspace(0.1, T0, 200)\n",
    "\n",
    "logmhpop = numpy.zeros(Ngal) + 12.0\n",
    "halopop = mc_halo_population(tarr, T0, logmhpop)\n",
    "\n",
    "# Collect mah_params into array of shape (n_halos, 4)\n",
    "mah_params_pop = numpy.array((halopop.log_mah[:, -1], halopop.lgtc, halopop.early_index, halopop.late_index)).T"
   ]
  },
  {
   "cell_type": "code",
   "execution_count": null,
   "id": "e734e2f5",
   "metadata": {},
   "outputs": [],
   "source": [
    "halopop.log_mah.shape"
   ]
  },
  {
   "cell_type": "markdown",
   "id": "f34f626c",
   "metadata": {},
   "source": [
    "## Supernova Rate"
   ]
  },
  {
   "cell_type": "code",
   "execution_count": null,
   "id": "99b020e8",
   "metadata": {},
   "outputs": [],
   "source": []
  },
  {
   "cell_type": "code",
   "execution_count": null,
   "id": "2edb6dbe",
   "metadata": {},
   "outputs": [],
   "source": [
    "from sn_diffstar.utils import *"
   ]
  },
  {
   "cell_type": "code",
   "execution_count": null,
   "id": "eff6a074",
   "metadata": {},
   "outputs": [],
   "source": [
    "t0=5\n",
    "betas = numpy.linspace(-1.25,-1,20)\n",
    "tps= numpy.linspace(0.02,0.06,20)"
   ]
  },
  {
   "cell_type": "code",
   "execution_count": null,
   "id": "6ff3f895",
   "metadata": {},
   "outputs": [],
   "source": [
    "t0s=numpy.random.uniform(5, 13., Ngal)\n",
    "fig, ax = plt.subplots(1, 1)\n",
    "__=ax.plot(logSM_gal(t0s, mah_params_pop), jnp.log10(SNR_gal(t0s, A, beta, tp, mah_params_pop)),'.')\n",
    "xlabel = ax.set_title(r'${\\rm Diffstar\\ Main\\ Sequence\\ Galaxies}$')\n",
    "xlabel = ax.set_xlabel(r'${\\rm Stellar\\ Mass\\ } \\log{(M_\\star/M_\\odot)}$')\n",
    "ylabel = ax.set_ylabel(r'$ \\log{\\rm SN\\ Rate\\ }[{\\rm galaxy}^{-1}{\\rm yr}^{-1}]$')"
   ]
  },
  {
   "cell_type": "code",
   "execution_count": null,
   "id": "5916d0cf",
   "metadata": {},
   "outputs": [],
   "source": [
    "t0s=numpy.random.uniform(5, 13., Ngal)\n",
    "fig, ax = plt.subplots(1, 1)\n",
    "__=ax.plot(t0s, SNR_gal(t0s, A, beta, tp, mah_params_pop),'.')\n",
    "xlabel = ax.set_title(r'${\\rm Diffstar\\ Main\\ Sequence\\ Galaxies}$')\n",
    "ylabel = ax.set_ylabel(r'${\\rm SN\\ Rate}$')"
   ]
  },
  {
   "cell_type": "code",
   "execution_count": null,
   "id": "99f5725d",
   "metadata": {},
   "outputs": [],
   "source": [
    "fig, ax = plt.subplots(1, 1)\n",
    "__=ax.plot(betas, SNR_beta(t0, A, betas, tp, mah_params_pop[0,:]))\n",
    "xlabel = ax.set_xlabel(r'$\\beta$')\n",
    "xlabel = ax.set_title(r'${{\\rm One\\ Diffstar\\ Main\\ Sequence\\ Galaxy}}$ at Lookback {} Gyr'.format(t0))\n",
    "ylabel = ax.set_ylabel(r'${\\rm SN\\ Rate}$')"
   ]
  },
  {
   "cell_type": "code",
   "execution_count": null,
   "id": "2f5dc5c3",
   "metadata": {},
   "outputs": [],
   "source": [
    "fig, ax = plt.subplots(1, 1)\n",
    "__=ax.plot(tps, SNR_tp(t0, A, beta, tps, mah_params_pop[0,:]))\n",
    "xlabel = ax.set_xlabel(r'$t_p (Gyr)$')\n",
    "xlabel = ax.set_title(r'${{\\rm One\\ Diffstar\\ Main\\ Sequence\\ Galaxy}}$ at Lookback {} Gyr'.format(t0))\n",
    "ylabel = ax.set_ylabel(r'${\\rm SN\\ Rate}$')"
   ]
  },
  {
   "cell_type": "code",
   "execution_count": null,
   "id": "687a3059",
   "metadata": {},
   "outputs": [],
   "source": [
    "fig, ax = plt.subplots(1, 1)\n",
    "im=ax.imshow(SNR_beta_tp(t0, A, betas, tps, mah_params_pop[0,:]),extent=[betas[0], betas[-1], tps[0], tps[-1]])\n",
    "ax.set_aspect(7)\n",
    "fig.colorbar(im, ax=ax,label='SN Rate')\n",
    "xlabel = ax.set_xlabel(r'$\\beta$')\n",
    "xlabel = ax.set_ylabel(r'$t_p (Gyr)$')\n",
    "xlabel = ax.set_title(r'${{\\rm One\\ Diffstar\\ Main\\ Sequence\\ Galaxy}}$ at Lookback {} Gyr'.format(t0))"
   ]
  },
  {
   "cell_type": "markdown",
   "id": "8e4e7d50",
   "metadata": {},
   "source": [
    "### As a function of DDT parameters"
   ]
  },
  {
   "cell_type": "code",
   "execution_count": null,
   "id": "1233a2d6",
   "metadata": {},
   "outputs": [],
   "source": [
    "t0s=jnp.linspace(0.1, 13.8, 10)\n",
    "fig, ax = plt.subplots(1, 1)\n",
    "__=ax.plot(t0s, SNR_t0(t0s, A, beta, tp, mah_params_pop[0,:]))\n",
    "xlabel = ax.set_xlabel(r'${\\rm cosmic\\ time\\ [Gyr]}$')\n",
    "xlabel = ax.set_title(r'${\\rm Diffstar\\ Main\\ Sequence\\ Galaxies}$')\n",
    "ylabel = ax.set_ylabel(r'${\\rm SN\\ Rate}$')"
   ]
  },
  {
   "cell_type": "code",
   "execution_count": null,
   "id": "52920795",
   "metadata": {},
   "outputs": [],
   "source": [
    "fig, ax = plt.subplots(1, 1)\n",
    "__=ax.plot(SNR_mah(5, A, beta, tp, mah_params_pop))\n",
    "xlabel = ax.set_title(r'${\\rm Diffstar\\ Main\\ Sequence\\ Galaxies}$')\n",
    "ylabel = ax.set_ylabel(r'${\\rm SN\\ Rate}$')"
   ]
  },
  {
   "cell_type": "code",
   "execution_count": null,
   "id": "4ebc0f8e",
   "metadata": {},
   "outputs": [],
   "source": [
    "t0s=jnp.linspace(0.1, 13.5, 20)\n",
    "fig, ax = plt.subplots(1, 1)\n",
    "__=ax.plot(t0s, SNR_t0_mah(t0s, A, beta, tp, mah_params_pop))\n",
    "xlabel = ax.set_xlabel(r'${\\rm cosmic\\ time\\ [Gyr]}$')\n",
    "xlabel = ax.set_title(r'${\\rm Diffstar\\ Main\\ Sequence\\ Galaxies}$')\n",
    "ylabel = ax.set_ylabel(r'${\\rm SN\\ Rate}$')"
   ]
  },
  {
   "cell_type": "markdown",
   "id": "a2c6859c",
   "metadata": {},
   "source": [
    "## Delay time distribution (DTD) Eq. 6 of https://academic.oup.com/mnras/article/506/3/3330/6318383?login=false"
   ]
  },
  {
   "cell_type": "code",
   "execution_count": null,
   "id": "4c704263",
   "metadata": {},
   "outputs": [],
   "source": [
    "@jjit\n",
    "## tau    (Gyr)\n",
    "## tp      (Gyr)\n",
    "## A   (1e-13 M^{-1}_{sun} yr^{-1}\n",
    "##\n",
    "##  Nominal values A=2.11; beta=-1.13; tp=0.04\n",
    "\n",
    "def DTD(tau, A, beta, tp):\n",
    "    return jax.lax.cond(tau < tp, lambda a: 0., lambda a : a[0]*jnp.power(a[1],a[2]), [A, tau, beta])"
   ]
  },
  {
   "cell_type": "code",
   "execution_count": null,
   "id": "cf1c2d6b",
   "metadata": {},
   "outputs": [],
   "source": [
    "DTD_vmap = jjit(vmap(DTD, in_axes=(0, None, None, None)))"
   ]
  },
  {
   "cell_type": "code",
   "execution_count": null,
   "id": "3b71b825",
   "metadata": {},
   "outputs": [],
   "source": [
    "tau = jnp.linspace(0, 1, 100)\n",
    "fig, ax = plt.subplots(1, 1)\n",
    "__=ax.plot(tau, DTD_vmap(tau, A, beta, tp))"
   ]
  }
 ],
 "metadata": {
  "kernelspec": {
   "display_name": "Python [conda env:sn_diffit] *",
   "language": "python",
   "name": "conda-env-sn_diffit-py"
  },
  "language_info": {
   "codemirror_mode": {
    "name": "ipython",
    "version": 3
   },
   "file_extension": ".py",
   "mimetype": "text/x-python",
   "name": "python",
   "nbconvert_exporter": "python",
   "pygments_lexer": "ipython3",
   "version": "3.9.16"
  }
 },
 "nbformat": 4,
 "nbformat_minor": 5
}
